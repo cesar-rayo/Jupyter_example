{
 "cells": [
  {
   "cell_type": "code",
   "execution_count": 3,
   "id": "fa795890",
   "metadata": {},
   "outputs": [],
   "source": [
    "# %load ./inputs/helper.py\n",
    "import pandas as pd\n",
    "df = pd.read_csv('./inputs/Environmental_Data_Deep_Moor_2015.csv')\n",
    "\n",
    "def get_day(d):\n",
    "\treturn df[df[\"date\"]==d]"
   ]
  },
  {
   "cell_type": "code",
   "execution_count": 4,
   "id": "ca80c115",
   "metadata": {},
   "outputs": [
    {
     "data": {
      "text/html": [
       "<div>\n",
       "<style scoped>\n",
       "    .dataframe tbody tr th:only-of-type {\n",
       "        vertical-align: middle;\n",
       "    }\n",
       "\n",
       "    .dataframe tbody tr th {\n",
       "        vertical-align: top;\n",
       "    }\n",
       "\n",
       "    .dataframe thead th {\n",
       "        text-align: right;\n",
       "    }\n",
       "</style>\n",
       "<table border=\"1\" class=\"dataframe\">\n",
       "  <thead>\n",
       "    <tr style=\"text-align: right;\">\n",
       "      <th></th>\n",
       "      <th>date</th>\n",
       "      <th>time</th>\n",
       "      <th>Air_Temp</th>\n",
       "      <th>Barometric_Press</th>\n",
       "      <th>Dew_Point</th>\n",
       "      <th>Relative_Humidity</th>\n",
       "      <th>Wind_Dir</th>\n",
       "      <th>Wind_Gust</th>\n",
       "      <th>Wind_Speed</th>\n",
       "    </tr>\n",
       "  </thead>\n",
       "  <tbody>\n",
       "    <tr>\n",
       "      <th>0</th>\n",
       "      <td>2015_01_01</td>\n",
       "      <td>0:02:43</td>\n",
       "      <td>19.50</td>\n",
       "      <td>30.62</td>\n",
       "      <td>14.78</td>\n",
       "      <td>81.6</td>\n",
       "      <td>159.78</td>\n",
       "      <td>14</td>\n",
       "      <td>9.2</td>\n",
       "    </tr>\n",
       "    <tr>\n",
       "      <th>1</th>\n",
       "      <td>2015_01_01</td>\n",
       "      <td>0:02:52</td>\n",
       "      <td>19.50</td>\n",
       "      <td>30.62</td>\n",
       "      <td>14.78</td>\n",
       "      <td>81.6</td>\n",
       "      <td>159.78</td>\n",
       "      <td>14</td>\n",
       "      <td>9.2</td>\n",
       "    </tr>\n",
       "    <tr>\n",
       "      <th>2</th>\n",
       "      <td>2015_01_01</td>\n",
       "      <td>0:07:43</td>\n",
       "      <td>19.50</td>\n",
       "      <td>30.61</td>\n",
       "      <td>14.66</td>\n",
       "      <td>81.2</td>\n",
       "      <td>155.63</td>\n",
       "      <td>11</td>\n",
       "      <td>8.6</td>\n",
       "    </tr>\n",
       "    <tr>\n",
       "      <th>3</th>\n",
       "      <td>2015_01_01</td>\n",
       "      <td>0:07:52</td>\n",
       "      <td>19.50</td>\n",
       "      <td>30.61</td>\n",
       "      <td>14.66</td>\n",
       "      <td>81.2</td>\n",
       "      <td>155.63</td>\n",
       "      <td>11</td>\n",
       "      <td>8.6</td>\n",
       "    </tr>\n",
       "    <tr>\n",
       "      <th>4</th>\n",
       "      <td>2015_01_01</td>\n",
       "      <td>0:12:43</td>\n",
       "      <td>19.68</td>\n",
       "      <td>30.61</td>\n",
       "      <td>15.20</td>\n",
       "      <td>82.4</td>\n",
       "      <td>166.59</td>\n",
       "      <td>12</td>\n",
       "      <td>9.4</td>\n",
       "    </tr>\n",
       "    <tr>\n",
       "      <th>...</th>\n",
       "      <td>...</td>\n",
       "      <td>...</td>\n",
       "      <td>...</td>\n",
       "      <td>...</td>\n",
       "      <td>...</td>\n",
       "      <td>...</td>\n",
       "      <td>...</td>\n",
       "      <td>...</td>\n",
       "      <td>...</td>\n",
       "    </tr>\n",
       "    <tr>\n",
       "      <th>571</th>\n",
       "      <td>2015_01_01</td>\n",
       "      <td>23:48:53</td>\n",
       "      <td>23.42</td>\n",
       "      <td>30.44</td>\n",
       "      <td>20.06</td>\n",
       "      <td>86.8</td>\n",
       "      <td>157.00</td>\n",
       "      <td>13</td>\n",
       "      <td>9.8</td>\n",
       "    </tr>\n",
       "    <tr>\n",
       "      <th>572</th>\n",
       "      <td>2015_01_01</td>\n",
       "      <td>23:53:03</td>\n",
       "      <td>23.40</td>\n",
       "      <td>30.43</td>\n",
       "      <td>19.98</td>\n",
       "      <td>86.6</td>\n",
       "      <td>149.20</td>\n",
       "      <td>13</td>\n",
       "      <td>9.2</td>\n",
       "    </tr>\n",
       "    <tr>\n",
       "      <th>573</th>\n",
       "      <td>2015_01_01</td>\n",
       "      <td>23:53:53</td>\n",
       "      <td>23.40</td>\n",
       "      <td>30.43</td>\n",
       "      <td>20.04</td>\n",
       "      <td>86.8</td>\n",
       "      <td>151.20</td>\n",
       "      <td>13</td>\n",
       "      <td>8.8</td>\n",
       "    </tr>\n",
       "    <tr>\n",
       "      <th>574</th>\n",
       "      <td>2015_01_01</td>\n",
       "      <td>23:58:03</td>\n",
       "      <td>23.42</td>\n",
       "      <td>30.43</td>\n",
       "      <td>20.06</td>\n",
       "      <td>86.8</td>\n",
       "      <td>155.20</td>\n",
       "      <td>13</td>\n",
       "      <td>8.8</td>\n",
       "    </tr>\n",
       "    <tr>\n",
       "      <th>575</th>\n",
       "      <td>2015_01_01</td>\n",
       "      <td>23:58:53</td>\n",
       "      <td>23.42</td>\n",
       "      <td>30.43</td>\n",
       "      <td>20.00</td>\n",
       "      <td>86.6</td>\n",
       "      <td>155.00</td>\n",
       "      <td>13</td>\n",
       "      <td>9.2</td>\n",
       "    </tr>\n",
       "  </tbody>\n",
       "</table>\n",
       "<p>576 rows × 9 columns</p>\n",
       "</div>"
      ],
      "text/plain": [
       "           date      time  Air_Temp  Barometric_Press  Dew_Point  \\\n",
       "0    2015_01_01   0:02:43     19.50             30.62      14.78   \n",
       "1    2015_01_01   0:02:52     19.50             30.62      14.78   \n",
       "2    2015_01_01   0:07:43     19.50             30.61      14.66   \n",
       "3    2015_01_01   0:07:52     19.50             30.61      14.66   \n",
       "4    2015_01_01   0:12:43     19.68             30.61      15.20   \n",
       "..          ...       ...       ...               ...        ...   \n",
       "571  2015_01_01  23:48:53     23.42             30.44      20.06   \n",
       "572  2015_01_01  23:53:03     23.40             30.43      19.98   \n",
       "573  2015_01_01  23:53:53     23.40             30.43      20.04   \n",
       "574  2015_01_01  23:58:03     23.42             30.43      20.06   \n",
       "575  2015_01_01  23:58:53     23.42             30.43      20.00   \n",
       "\n",
       "     Relative_Humidity  Wind_Dir  Wind_Gust  Wind_Speed  \n",
       "0                 81.6    159.78         14         9.2  \n",
       "1                 81.6    159.78         14         9.2  \n",
       "2                 81.2    155.63         11         8.6  \n",
       "3                 81.2    155.63         11         8.6  \n",
       "4                 82.4    166.59         12         9.4  \n",
       "..                 ...       ...        ...         ...  \n",
       "571               86.8    157.00         13         9.8  \n",
       "572               86.6    149.20         13         9.2  \n",
       "573               86.8    151.20         13         8.8  \n",
       "574               86.8    155.20         13         8.8  \n",
       "575               86.6    155.00         13         9.2  \n",
       "\n",
       "[576 rows x 9 columns]"
      ]
     },
     "execution_count": 4,
     "metadata": {},
     "output_type": "execute_result"
    }
   ],
   "source": [
    "get_day('2015_01_01')"
   ]
  },
  {
   "cell_type": "code",
   "execution_count": 5,
   "id": "3b3b3ac7",
   "metadata": {},
   "outputs": [
    {
     "name": "stdout",
     "output_type": "stream",
     "text": [
      "import matplotlib.pyplot as plt\r\n",
      "import sys\r\n",
      "\r\n",
      "y = list(map(int, sys.argv[1:]))\r\n",
      "plt.plot(y)"
     ]
    }
   ],
   "source": [
    "%cat ./inputs/plot_numbers.py"
   ]
  },
  {
   "cell_type": "code",
   "execution_count": 6,
   "id": "14219de2",
   "metadata": {},
   "outputs": [
    {
     "data": {
      "image/png": "[encoded data removed]",
      "text/plain": [
       "<Figure size 432x288 with 1 Axes>"
      ]
     },
     "metadata": {
      "needs_background": "light"
     },
     "output_type": "display_data"
    }
   ],
   "source": [
    "%run ./inputs/plot_numbers.py 1 3 4 7 9"
   ]
  },
  {
   "cell_type": "code",
   "execution_count": 8,
   "id": "1f5b713b",
   "metadata": {},
   "outputs": [
    {
     "name": "stdout",
     "output_type": "stream",
     "text": [
      "CPU times: user 10.1 ms, sys: 742 µs, total: 10.8 ms\n",
      "Wall time: 10.7 ms\n"
     ]
    },
    {
     "data": {
      "text/plain": [
       "43.1369525412414"
      ]
     },
     "execution_count": 8,
     "metadata": {},
     "output_type": "execute_result"
    }
   ],
   "source": [
    "%time sum(x for x in df['Air_Temp'])/len(df['Air_Temp'])"
   ]
  },
  {
   "cell_type": "code",
   "execution_count": 9,
   "id": "a8c4c2c8",
   "metadata": {},
   "outputs": [
    {
     "name": "stdout",
     "output_type": "stream",
     "text": [
      "CPU times: user 1.64 ms, sys: 687 µs, total: 2.33 ms\n",
      "Wall time: 1.73 ms\n"
     ]
    },
    {
     "data": {
      "text/plain": [
       "43.136952541241676"
      ]
     },
     "execution_count": 9,
     "metadata": {},
     "output_type": "execute_result"
    }
   ],
   "source": [
    "%time df['Air_Temp'].mean()"
   ]
  },
  {
   "cell_type": "code",
   "execution_count": 10,
   "id": "513ce88f",
   "metadata": {},
   "outputs": [
    {
     "name": "stdout",
     "output_type": "stream",
     "text": [
      "173 µs ± 2.46 µs per loop (mean ± std. dev. of 7 runs, 10,000 loops each)\n"
     ]
    }
   ],
   "source": [
    "%timeit df['Air_Temp'].mean()"
   ]
  },
  {
   "cell_type": "code",
   "execution_count": 15,
   "id": "27f8ea43",
   "metadata": {},
   "outputs": [
    {
     "data": {
      "text/plain": [
       "['     576']"
      ]
     },
     "execution_count": 15,
     "metadata": {},
     "output_type": "execute_result"
    }
   ],
   "source": [
    "%system grep 2015_01_01 ./inputs/Environmental_Data_Deep_Moor_2015.csv | wc -l"
   ]
  },
  {
   "cell_type": "code",
   "execution_count": 16,
   "id": "c17cf63b",
   "metadata": {},
   "outputs": [
    {
     "data": {
      "text/plain": [
       "['     576']"
      ]
     },
     "execution_count": 16,
     "metadata": {},
     "output_type": "execute_result"
    }
   ],
   "source": [
    "Out[15]"
   ]
  },
  {
   "cell_type": "markdown",
   "id": "fcf1ba5c",
   "metadata": {},
   "source": [
    "Shortcut for `%system` command"
   ]
  },
  {
   "cell_type": "code",
   "execution_count": 17,
   "id": "0c63d271",
   "metadata": {},
   "outputs": [
    {
     "data": {
      "text/plain": [
       "['     576']"
      ]
     },
     "execution_count": 17,
     "metadata": {},
     "output_type": "execute_result"
    }
   ],
   "source": [
    "!!grep 2015_01_01 ./inputs/Environmental_Data_Deep_Moor_2015.csv | wc -l"
   ]
  }
 ],
 "metadata": {
  "kernelspec": {
   "display_name": "Python 3 (ipykernel)",
   "language": "python",
   "name": "python3"
  },
  "language_info": {
   "codemirror_mode": {
    "name": "ipython",
    "version": 3
   },
   "file_extension": ".py",
   "mimetype": "text/x-python",
   "name": "python",
   "nbconvert_exporter": "python",
   "pygments_lexer": "ipython3",
   "version": "3.8.2"
  }
 },
 "nbformat": 4,
 "nbformat_minor": 5
}
