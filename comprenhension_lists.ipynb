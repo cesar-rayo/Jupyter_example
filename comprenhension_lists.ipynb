{
 "cells": [
  {
   "cell_type": "markdown",
   "id": "d3656392",
   "metadata": {},
   "source": [
    "# Comprehension Lists"
   ]
  },
  {
   "cell_type": "code",
   "execution_count": 16,
   "id": "142b025d",
   "metadata": {},
   "outputs": [
    {
     "data": {
      "text/plain": [
       "[0, 1, 2, 3, 4, 5, 6, 7, 8, 9]"
      ]
     },
     "execution_count": 16,
     "metadata": {},
     "output_type": "execute_result"
    }
   ],
   "source": [
    "[number for number in range(10)]"
   ]
  },
  {
   "cell_type": "code",
   "execution_count": 6,
   "id": "22f3b505",
   "metadata": {},
   "outputs": [
    {
     "data": {
      "text/plain": [
       "[0, 10, 20, 30, 40, 50, 60, 70, 80, 90]"
      ]
     },
     "execution_count": 6,
     "metadata": {},
     "output_type": "execute_result"
    }
   ],
   "source": [
    "[number*10 for number in range(10)]"
   ]
  },
  {
   "cell_type": "code",
   "execution_count": 18,
   "id": "7bbfba5c",
   "metadata": {},
   "outputs": [
    {
     "data": {
      "text/plain": [
       "{0: 0, 1: 10, 2: 20, 3: 30, 4: 40, 5: 50, 6: 60, 7: 70, 8: 80, 9: 90}"
      ]
     },
     "execution_count": 18,
     "metadata": {},
     "output_type": "execute_result"
    }
   ],
   "source": [
    "{number : number*10 for number in range(10)}"
   ]
  },
  {
   "cell_type": "code",
   "execution_count": 15,
   "id": "179f2998",
   "metadata": {},
   "outputs": [
    {
     "data": {
      "text/plain": [
       "{0, 20, 40, 60, 80, None}"
      ]
     },
     "execution_count": 15,
     "metadata": {},
     "output_type": "execute_result"
    }
   ],
   "source": [
    "{number*10 if number % 2 == 0 else None for number in range(10)}"
   ]
  },
  {
   "cell_type": "code",
   "execution_count": 21,
   "id": "75f99867",
   "metadata": {},
   "outputs": [
    {
     "data": {
      "text/plain": [
       "[1,\n",
       " 2,\n",
       " 'Buzz',\n",
       " 4,\n",
       " 'Fizz',\n",
       " 'Buzz',\n",
       " 7,\n",
       " 8,\n",
       " 'Buzz',\n",
       " 'Fizz',\n",
       " 11,\n",
       " 'Buzz',\n",
       " 13,\n",
       " 14,\n",
       " 'FizzBuzz',\n",
       " 16,\n",
       " 17,\n",
       " 'Buzz',\n",
       " 19,\n",
       " 'Fizz',\n",
       " 'Buzz',\n",
       " 22,\n",
       " 23,\n",
       " 'Buzz',\n",
       " 'Fizz',\n",
       " 26,\n",
       " 'Buzz',\n",
       " 28,\n",
       " 29,\n",
       " 'FizzBuzz']"
      ]
     },
     "execution_count": 21,
     "metadata": {},
     "output_type": "execute_result"
    }
   ],
   "source": [
    "[\n",
    "    'FizzBuzz' if i % 15 == 0\n",
    "    else('Fizz' if i % 5 == 0\n",
    "        else('Buzz' if i % 3 == 0\n",
    "            else i\n",
    "            )\n",
    "        )\n",
    "    for i in range(1,31)\n",
    "]"
   ]
  }
 ],
 "metadata": {
  "kernelspec": {
   "display_name": "Python 3 (ipykernel)",
   "language": "python",
   "name": "python3"
  },
  "language_info": {
   "codemirror_mode": {
    "name": "ipython",
    "version": 3
   },
   "file_extension": ".py",
   "mimetype": "text/x-python",
   "name": "python",
   "nbconvert_exporter": "python",
   "pygments_lexer": "ipython3",
   "version": "3.8.2"
  }
 },
 "nbformat": 4,
 "nbformat_minor": 5
}
